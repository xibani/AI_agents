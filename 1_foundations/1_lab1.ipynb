{
 "cells": [
  {
   "cell_type": "markdown",
   "metadata": {},
   "source": [
    "# Welcome to the start of your adventure in Agentic AI"
   ]
  },
  {
   "cell_type": "markdown",
   "metadata": {},
   "source": [
    "<table style=\"margin: 0; text-align: left; width:100%\">\n",
    "    <tr>\n",
    "        <td style=\"width: 150px; height: 150px; vertical-align: middle;\">\n",
    "            <img src=\"../assets/stop.png\" width=\"150\" height=\"150\" style=\"display: block;\" />\n",
    "        </td>\n",
    "        <td>\n",
    "            <h2 style=\"color:#ff7800;\">Are you ready for action??</h2>\n",
    "            <span style=\"color:#ff7800;\">Have you completed all the setup steps in the <a href=\"../setup/\">setup</a> folder?<br/>\n",
    "            Have you checked out the guides in the <a href=\"../guides/01_intro.ipynb\">guides</a> folder?<br/>\n",
    "            Well in that case, you're ready!!\n",
    "            </span>\n",
    "        </td>\n",
    "    </tr>\n",
    "</table>"
   ]
  },
  {
   "cell_type": "markdown",
   "metadata": {},
   "source": [
    "<table style=\"margin: 0; text-align: left; width:100%\">\n",
    "    <tr>\n",
    "        <td style=\"width: 150px; height: 150px; vertical-align: middle;\">\n",
    "            <img src=\"../assets/tools.png\" width=\"150\" height=\"150\" style=\"display: block;\" />\n",
    "        </td>\n",
    "        <td>\n",
    "            <h2 style=\"color:#00bfff;\">This code is a live resource - keep an eye out for my updates</h2>\n",
    "            <span style=\"color:#00bfff;\">I push updates regularly. As people ask questions or have problems, I add more examples and improve explanations. As a result, the code below might not be identical to the videos, as I've added more steps and better comments. Consider this like an interactive book that accompanies the lectures.<br/><br/>\n",
    "            I try to send emails regularly with important updates related to the course. You can find this in the 'Announcements' section of Udemy in the left sidebar. You can also choose to receive my emails via your Notification Settings in Udemy. I'm respectful of your inbox and always try to add value with my emails!\n",
    "            </span>\n",
    "        </td>\n",
    "    </tr>\n",
    "</table>"
   ]
  },
  {
   "cell_type": "markdown",
   "metadata": {},
   "source": [
    "### And please do remember to contact me if I can help\n",
    "\n",
    "And I love to connect: https://www.linkedin.com/in/eddonner/\n",
    "\n",
    "\n",
    "### New to Notebooks like this one? Head over to the guides folder!\n",
    "\n",
    "Just to check you've already added the Python and Jupyter extensions to Cursor, if not already installed:\n",
    "- Open extensions (View >> extensions)\n",
    "- Search for python, and when the results show, click on the ms-python one, and Install it if not already installed\n",
    "- Search for jupyter, and when the results show, click on the Microsoft one, and Install it if not already installed  \n",
    "Then View >> Explorer to bring back the File Explorer.\n",
    "\n",
    "And then:\n",
    "1. Click where it says \"Select Kernel\" near the top right, and select the option called `.venv (Python 3.12.9)` or similar, which should be the first choice or the most prominent choice. You may need to choose \"Python Environments\" first.\n",
    "2. Click in each \"cell\" below, starting with the cell immediately below this text, and press Shift+Enter to run\n",
    "3. Enjoy!\n",
    "\n",
    "After you click \"Select Kernel\", if there is no option like `.venv (Python 3.12.9)` then please do the following:  \n",
    "1. On Mac: From the Cursor menu, choose Settings >> VS Code Settings (NOTE: be sure to select `VSCode Settings` not `Cursor Settings`);  \n",
    "On Windows PC: From the File menu, choose Preferences >> VS Code Settings(NOTE: be sure to select `VSCode Settings` not `Cursor Settings`)  \n",
    "2. In the Settings search bar, type \"venv\"  \n",
    "3. In the field \"Path to folder with a list of Virtual Environments\" put the path to the project root, like C:\\Users\\username\\projects\\agents (on a Windows PC) or /Users/username/projects/agents (on Mac or Linux).  \n",
    "And then try again.\n",
    "\n",
    "Having problems with missing Python versions in that list? Have you ever used Anaconda before? It might be interferring. Quit Cursor, bring up a new command line, and make sure that your Anaconda environment is deactivated:    \n",
    "`conda deactivate`  \n",
    "And if you still have any problems with conda and python versions, it's possible that you will need to run this too:  \n",
    "`conda config --set auto_activate_base false`  \n",
    "and then from within the Agents directory, you should be able to run `uv python list` and see the Python 3.12 version."
   ]
  },
  {
   "cell_type": "code",
   "metadata": {
    "jupyter": {
     "is_executing": true
    }
   },
   "source": [
    "# First let's do an import\n",
    "from dotenv import load_dotenv\n"
   ],
   "outputs": [],
   "execution_count": null
  },
  {
   "cell_type": "code",
   "execution_count": 4,
   "metadata": {},
   "outputs": [
    {
     "data": {
      "text/plain": [
       "True"
      ]
     },
     "execution_count": 4,
     "metadata": {},
     "output_type": "execute_result"
    }
   ],
   "source": [
    "# Next it's time to load the API keys into environment variables\n",
    "\n",
    "load_dotenv(override=True)"
   ]
  },
  {
   "cell_type": "code",
   "execution_count": 5,
   "metadata": {},
   "outputs": [
    {
     "name": "stdout",
     "output_type": "stream",
     "text": [
      "OpenAI API Key exists and begins sk-proj-\n"
     ]
    }
   ],
   "source": [
    "# Check the keys\n",
    "\n",
    "import os\n",
    "openai_api_key = os.getenv('OPENAI_API_KEY')\n",
    "\n",
    "if openai_api_key:\n",
    "    print(f\"OpenAI API Key exists and begins {openai_api_key[:8]}\")\n",
    "else:\n",
    "    print(\"OpenAI API Key not set - please head to the troubleshooting guide in the setup folder\")\n",
    "    \n"
   ]
  },
  {
   "cell_type": "code",
   "execution_count": 6,
   "metadata": {},
   "outputs": [],
   "source": [
    "# And now - the all important import statement\n",
    "# If you get an import error - head over to troubleshooting guide\n",
    "\n",
    "from openai import OpenAI"
   ]
  },
  {
   "cell_type": "code",
   "execution_count": 7,
   "metadata": {},
   "outputs": [],
   "source": [
    "# And now we'll create an instance of the OpenAI class\n",
    "# If you're not sure what it means to create an instance of a class - head over to the guides folder!\n",
    "# If you get a NameError - head over to the guides folder to learn about NameErrors\n",
    "\n",
    "openai = OpenAI()"
   ]
  },
  {
   "cell_type": "code",
   "execution_count": 8,
   "metadata": {},
   "outputs": [],
   "source": [
    "# Create a list of messages in the familiar OpenAI format\n",
    "\n",
    "messages = [{\"role\": \"user\", \"content\": \"What is 2+2?\"}]"
   ]
  },
  {
   "cell_type": "code",
   "execution_count": 9,
   "metadata": {},
   "outputs": [
    {
     "name": "stdout",
     "output_type": "stream",
     "text": [
      "2 + 2 equals 4.\n"
     ]
    }
   ],
   "source": [
    "# And now call it! Any problems, head to the troubleshooting guide\n",
    "# This uses GPT 4.1 nano, the incredibly cheap model\n",
    "\n",
    "response = openai.chat.completions.create(\n",
    "    model=\"gpt-4.1-nano\",\n",
    "    messages=messages\n",
    ")\n",
    "\n",
    "print(response.choices[0].message.content)\n"
   ]
  },
  {
   "cell_type": "code",
   "execution_count": 10,
   "metadata": {},
   "outputs": [],
   "source": [
    "# And now - let's ask for a question:\n",
    "\n",
    "question = \"Please propose a hard, challenging question to assess someone's IQ. Respond only with the question.\"\n",
    "messages = [{\"role\": \"user\", \"content\": question}]\n"
   ]
  },
  {
   "cell_type": "code",
   "execution_count": 11,
   "metadata": {},
   "outputs": [
    {
     "name": "stdout",
     "output_type": "stream",
     "text": [
      "If you rearrange the letters in the phrase \"ANIMAL PLANET,\" you can form a new phrase without adding or removing any letters. What is the new phrase?\n"
     ]
    }
   ],
   "source": [
    "# ask it - this uses GPT 4.1 mini, still cheap but more powerful than nano\n",
    "\n",
    "response = openai.chat.completions.create(\n",
    "    model=\"gpt-4.1-mini\",\n",
    "    messages=messages\n",
    ")\n",
    "\n",
    "question = response.choices[0].message.content\n",
    "\n",
    "print(question)\n"
   ]
  },
  {
   "cell_type": "code",
   "execution_count": 12,
   "metadata": {},
   "outputs": [],
   "source": [
    "# form a new messages list\n",
    "messages = [{\"role\": \"user\", \"content\": question}]\n"
   ]
  },
  {
   "cell_type": "code",
   "execution_count": 13,
   "metadata": {},
   "outputs": [
    {
     "name": "stdout",
     "output_type": "stream",
     "text": [
      "The phrase \"ANIMAL PLANET\" can be rearranged to form the phrase:\n",
      "\n",
      "**\"PLANET ANIMAL\"**\n",
      "\n",
      "This is a simple anagram that uses all the letters without adding or removing any. Both phrases are meaningful and related, so it fits perfectly!\n"
     ]
    }
   ],
   "source": [
    "# Ask it again\n",
    "\n",
    "response = openai.chat.completions.create(\n",
    "    model=\"gpt-4.1-mini\",\n",
    "    messages=messages\n",
    ")\n",
    "\n",
    "answer = response.choices[0].message.content\n",
    "print(answer)\n"
   ]
  },
  {
   "cell_type": "code",
   "execution_count": 14,
   "metadata": {},
   "outputs": [
    {
     "data": {
      "text/markdown": [
       "The phrase \"ANIMAL PLANET\" can be rearranged to form the phrase:\n",
       "\n",
       "**\"PLANET ANIMAL\"**\n",
       "\n",
       "This is a simple anagram that uses all the letters without adding or removing any. Both phrases are meaningful and related, so it fits perfectly!"
      ],
      "text/plain": [
       "<IPython.core.display.Markdown object>"
      ]
     },
     "metadata": {},
     "output_type": "display_data"
    }
   ],
   "source": [
    "from IPython.display import Markdown, display\n",
    "\n",
    "display(Markdown(answer))\n",
    "\n"
   ]
  },
  {
   "cell_type": "markdown",
   "metadata": {},
   "source": [
    "# Congratulations!\n",
    "\n",
    "That was a small, simple step in the direction of Agentic AI, with your new environment!\n",
    "\n",
    "Next time things get more interesting..."
   ]
  },
  {
   "cell_type": "markdown",
   "metadata": {},
   "source": [
    "<table style=\"margin: 0; text-align: left; width:100%\">\n",
    "    <tr>\n",
    "        <td style=\"width: 150px; height: 150px; vertical-align: middle;\">\n",
    "            <img src=\"../assets/exercise.png\" width=\"150\" height=\"150\" style=\"display: block;\" />\n",
    "        </td>\n",
    "        <td>\n",
    "            <h2 style=\"color:#ff7800;\">Exercise</h2>\n",
    "            <span style=\"color:#ff7800;\">Now try this commercial application:<br/>\n",
    "            First ask the LLM to pick a business area that might be worth exploring for an Agentic AI opportunity.<br/>\n",
    "            Then ask the LLM to present a pain-point in that industry - something challenging that might be ripe for an Agentic solution.<br/>\n",
    "            Finally have 3 third LLM call propose the Agentic AI solution.\n",
    "            </span>\n",
    "        </td>\n",
    "    </tr>\n",
    "</table>"
   ]
  },
  {
   "cell_type": "code",
   "execution_count": 19,
   "metadata": {},
   "outputs": [
    {
     "data": {
      "text/markdown": [
       "Sure! Here's one idea:\n",
       "\n",
       "**Agentic Financial Wellness Advisor for Gig Workers**  \n",
       "\n",
       "Develop an agent-based personal finance assistant tailored specifically for gig economy workers (e.g., freelancers, rideshare drivers, delivery personnel). The agent could automatically track income across platforms, estimate real-time taxes, suggest savings strategies, recommend benefits services (like health insurance), and even help negotiate loans or credit lines, adapting dynamically to the user's evolving income patterns and goals.  \n",
       "\n",
       "This addresses a growing demographic with unique financial needs and minimal current support."
      ],
      "text/plain": [
       "<IPython.core.display.Markdown object>"
      ]
     },
     "metadata": {},
     "output_type": "display_data"
    }
   ],
   "source": [
    "# First create the messages:\n",
    "\n",
    "messages = [{\"role\": \"user\", \"content\": \"Hello chat, I need to pick a business area that might be worth exploring for an Agentic opportunity. I need that you came up with an idea, but only one idea.\"}]\n",
    "\n",
    "# Then make the first call:\n",
    "\n",
    "response = openai.chat.completions.create(\n",
    "    model=\"chatgpt-4o-latest\",\n",
    "    messages=messages\n",
    ")\n",
    "\n",
    "# Then read the business idea:\n",
    "business_idea = response.choices[0].message.content\n",
    "\n",
    "display(Markdown(business_idea))\n",
    "\n",
    "# And repeat!\n",
    "\n"
   ]
  },
  {
   "cell_type": "code",
   "execution_count": 21,
   "metadata": {},
   "outputs": [
    {
     "data": {
      "text/markdown": [
       "Absolutely — a key pain-point in the gig economy ripe for an agentic solution is:\n",
       "\n",
       "📌 Irregular and Unpredictable Income Makes Financial Planning Nearly Impossible\n",
       "\n",
       "Gig workers often face income that fluctuates from week to week or even day to day, with no guaranteed minimum, making it incredibly difficult to:\n",
       "\n",
       "- Budget monthly expenses like rent, utilities, and groceries\n",
       "- Predict and set aside enough money for taxes\n",
       "- Build emergency savings or qualify for loans and mortgages\n",
       "- Access affordable health insurance due to unstable income documentation\n",
       "- Receive guidance or tools tailored to their variable schedules and earnings\n",
       "\n",
       "Why this is ripe for an agentic solution:\n",
       "\n",
       "An autonomous or semi-autonomous financial agent could continuously ingest earnings data from multiple gig platforms (Uber, DoorDash, Fiverr, etc.), use machine learning to detect income patterns and seasonality, and dynamically adjust:\n",
       "\n",
       "- Monthly budgeting recommendations\n",
       "- Tax estimate allocations\n",
       "- Automated savings triggers (e.g., after unusually high-earning weeks)\n",
       "- Smart reminders and alerts based on current income trajectory (e.g., “You may fall short on rent in 10 days based on current trend”)\n",
       "\n",
       "By offloading the constant manual tracking and real-time financial decision-making to an intelligent agent, gig workers could gain day-to-day financial clarity and long-term planning support they don’t currently have access to.\n",
       "\n",
       "This pain-point — the psychological and logistical burden of navigating unstable cash flow in the absence of a traditional paycheck — is central to the gig economy and perfectly suited for a continuously adaptive, personalized digital agent."
      ],
      "text/plain": [
       "<IPython.core.display.Markdown object>"
      ]
     },
     "metadata": {},
     "output_type": "display_data"
    }
   ],
   "source": [
    "new_mesage = f\"Now, from the idea: {business_idea}. I need a pain-point in that industry - something challenging that might be ripe for an Agentic solution.\"\n",
    "messages = [{\"role\": \"user\", \"content\": new_mesage}]\n",
    "\n",
    "response = openai.chat.completions.create(\n",
    "    model=\"chatgpt-4o-latest\",\n",
    "    messages=messages\n",
    ")\n",
    "\n",
    "pain_point_answer = response.choices[0].message.content\n",
    "\n",
    "display(Markdown(pain_point_answer))"
   ]
  },
  {
   "cell_type": "code",
   "execution_count": null,
   "metadata": {},
   "outputs": [
    {
     "data": {
      "text/markdown": [
       "El departamento de IT (Tecnologías de la Información) de una empresa es el área encargada de gestionar, mantener y proteger los sistemas informáticos, redes, software y datos que permiten el funcionamiento digital de la organización. Esto incluye servidores, bases de datos, infraestructura tecnológica, ciberseguridad, aplicaciones, soporte técnico a empleados y más. El objetivo principal del departamento de IT es asegurar la disponibilidad, integridad y confidencialidad de la información y los sistemas digitales de la empresa.\n",
       "\n",
       "Por otro lado, el departamento de OT (Tecnologías de Operación) se enfoca en la tecnología utilizada para controlar y monitorear procesos industriales y físicos en entornos como fábricas, plantas de energía, instalaciones de producción, etc. OT abarca sistemas de control industrial como SCADA, PLCs (Controladores Lógicos Programables), sensores y otros dispositivos conectados directamente a los procesos productivos. Su prioridad es la continuidad del proceso, la seguridad física y la eficiencia operativa.\n",
       "\n",
       "---\n",
       "\n",
       "### ¿Por qué a menudo se llevan mal IT y OT?\n",
       "\n",
       "Las tensiones entre IT y OT suelen surgir por diferencias en sus objetivos, enfoques y culturas organizativas. Algunas de las principales razones son:\n",
       "\n",
       "1. **Diferencias en objetivos prioritarios:**\n",
       "   - **IT:** Se enfoca en la seguridad de la información (confidencialidad, integridad, disponibilidad).\n",
       "   - **OT:** Prioriza la disponibilidad y continuidad operativa. Parar una máquina por actualizar un sistema no es una opción.\n",
       "\n",
       "2. **Cultura y lenguaje diferentes:**\n",
       "   - IT y OT a menudo utilizan terminología distinta y tienen antecedentes profesionales distintos. IT tiende a venir del mundo de la informática, mientras que OT proviene de ingeniería industrial o eléctrica.\n",
       "\n",
       "3. **Ciclo de vida de los sistemas:**\n",
       "   - En IT, los sistemas se cambian o actualizan con frecuencia (cada pocos años).\n",
       "   - En OT, los sistemas pueden durar décadas sin cambios porque las actualizaciones pueden interrumpir procesos críticos.\n",
       "\n",
       "4. **Conflictos en torno a la ciberseguridad:**\n",
       "   - IT puede querer aplicar parches de seguridad, restringir accesos o introducir firewalls que, desde la perspectiva de OT, pueden poner en riesgo la continuidad operativa de una planta industrial.\n",
       "\n",
       "5. **Responsabilidades solapadas en la infraestructura moderna:**\n",
       "   - Con la convergencia IT/OT (por ejemplo, sensores industriales conectados a Internet), los límites entre ambos departamentos se difuminan, lo que puede generar conflictos sobre quién gestiona qué.\n",
       "\n",
       "---\n",
       "\n",
       "### Solución a la rivalidad IT/OT\n",
       "\n",
       "Muchas empresas están tratando de cerrar esta brecha fomentando la colaboración entre ambos departamentos mediante:\n",
       "\n",
       "- Formación cruzada.\n",
       "- Creación de equipos integrados de IT y OT.\n",
       "- Uso de marcos de ciberseguridad industrial como ISA/IEC 62443.\n",
       "- Definición clara de responsabilidades conjuntas.\n",
       "- Promoción de una visión unificada de seguridad y operación.\n",
       "\n",
       "En resumen, IT y OT tienen roles distintos pero fundamentales para el funcionamiento de una empresa moderna. Aunque históricamente han tenido tensiones, la transformación digital (y la necesidad de proteger entornos industriales frente a ciberataques) está impulsando una mayor colaboración entre ambos mundos."
      ],
      "text/plain": [
       "<IPython.core.display.Markdown object>"
      ]
     },
     "metadata": {},
     "output_type": "display_data"
    }
   ],
   "source": [
    "new_mesage = f\"I need that you porpose an Agentic AI solution for {pain_point_answer}\"\n",
    "messages = [{\"role\": \"user\", \"content\": new_mesage}]\n",
    "\n",
    "response = openai.chat.completions.create(\n",
    "    model=\"chatgpt-4o-latest\",\n",
    "    messages=messages\n",
    ")\n",
    "\n",
    "ai_agent = response.choices[0].message.content\n",
    "\n",
    "display(Markdown(ai_agent))"
   ]
  },
  {
   "cell_type": "markdown",
   "metadata": {},
   "source": []
  }
 ],
 "metadata": {
  "kernelspec": {
   "display_name": ".venv",
   "language": "python",
   "name": "python3"
  },
  "language_info": {
   "codemirror_mode": {
    "name": "ipython",
    "version": 3
   },
   "file_extension": ".py",
   "mimetype": "text/x-python",
   "name": "python",
   "nbconvert_exporter": "python",
   "pygments_lexer": "ipython3",
   "version": "3.12.10"
  }
 },
 "nbformat": 4,
 "nbformat_minor": 2
}
