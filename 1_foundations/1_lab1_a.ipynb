{
 "cells": [
  {
   "cell_type": "code",
   "id": "1e75985d",
   "metadata": {
    "ExecuteTime": {
     "end_time": "2025-06-05T17:06:27.198071Z",
     "start_time": "2025-06-05T17:06:27.190276Z"
    }
   },
   "source": [
    "from dotenv import load_dotenv"
   ],
   "outputs": [],
   "execution_count": 1
  },
  {
   "cell_type": "code",
   "id": "b9f18d4e",
   "metadata": {
    "ExecuteTime": {
     "end_time": "2025-06-05T17:06:36.918188Z",
     "start_time": "2025-06-05T17:06:36.913261Z"
    }
   },
   "source": [
    "# Busca el elemento .env para cargar la info que hay almacenada ahi \n",
    "\n",
    "load_dotenv(override=True)"
   ],
   "outputs": [
    {
     "data": {
      "text/plain": [
       "True"
      ]
     },
     "execution_count": 2,
     "metadata": {},
     "output_type": "execute_result"
    }
   ],
   "execution_count": 2
  },
  {
   "cell_type": "code",
   "id": "04c741fa",
   "metadata": {
    "ExecuteTime": {
     "end_time": "2025-06-05T17:06:41.270560Z",
     "start_time": "2025-06-05T17:06:41.267676Z"
    }
   },
   "source": [
    "import os\n",
    "\n",
    "openai_api_key = os.getenv('OPENAI_API_KEY')\n",
    "\n",
    "if openai_api_key:\n",
    "    print(f\"OpenAI API KEY exists and begins {openai_api_key[:8]}\")\n",
    "else:\n",
    "    print(\"OpenAI API KEY not set\")"
   ],
   "outputs": [
    {
     "name": "stdout",
     "output_type": "stream",
     "text": [
      "OpenAI API KEY exists and begins sk-proj-\n"
     ]
    }
   ],
   "execution_count": 3
  },
  {
   "cell_type": "code",
   "id": "7ebcf443",
   "metadata": {
    "ExecuteTime": {
     "end_time": "2025-06-05T17:06:56.468374Z",
     "start_time": "2025-06-05T17:06:56.018235Z"
    }
   },
   "source": [
    "from openai import OpenAI"
   ],
   "outputs": [],
   "execution_count": 4
  },
  {
   "cell_type": "code",
   "id": "3546ea67",
   "metadata": {
    "ExecuteTime": {
     "end_time": "2025-06-05T17:06:56.684180Z",
     "start_time": "2025-06-05T17:06:56.475441Z"
    }
   },
   "source": [
    "openai = OpenAI()"
   ],
   "outputs": [],
   "execution_count": 5
  },
  {
   "cell_type": "code",
   "id": "9a9bd6db",
   "metadata": {
    "ExecuteTime": {
     "end_time": "2025-06-05T17:06:56.695024Z",
     "start_time": "2025-06-05T17:06:56.692464Z"
    }
   },
   "source": [
    "messages = [{\"role\": \"user\", \"content\": \"What is 2+7*(9-7)/3?\"}]"
   ],
   "outputs": [],
   "execution_count": 6
  },
  {
   "cell_type": "code",
   "id": "de16dccd",
   "metadata": {
    "ExecuteTime": {
     "end_time": "2025-06-05T17:07:02.940814Z",
     "start_time": "2025-06-05T17:06:57.072316Z"
    }
   },
   "source": [
    "response = openai.chat.completions.create(\n",
    "    model=\"gpt-4o-mini\",\n",
    "    messages=messages\n",
    ")\n",
    "\n",
    "print(response.choices[0].message.content)"
   ],
   "outputs": [
    {
     "name": "stdout",
     "output_type": "stream",
     "text": [
      "To solve the expression \\( 2 + 7 \\times (9 - 7) / 3 \\), you should follow the order of operations (parentheses, exponents, multiplication and division from left to right, addition and subtraction from left to right).\n",
      "\n",
      "1. **Calculate the parentheses**: \n",
      "   \\[\n",
      "   9 - 7 = 2\n",
      "   \\]\n",
      "\n",
      "2. **Substitute back into the expression**:\n",
      "   \\[\n",
      "   2 + 7 \\times 2 / 3\n",
      "   \\]\n",
      "\n",
      "3. **Multiply**:\n",
      "   \\[\n",
      "   7 \\times 2 = 14\n",
      "   \\]\n",
      "\n",
      "4. **Substitute back into the expression**:\n",
      "   \\[\n",
      "   2 + 14 / 3\n",
      "   \\]\n",
      "\n",
      "5. **Divide**:\n",
      "   \\[\n",
      "   14 / 3 \\approx 4.67\n",
      "   \\]\n",
      "\n",
      "6. **Substitute back into the expression**:\n",
      "   \\[\n",
      "   2 + 4.67 \\approx 6.67\n",
      "   \\]\n",
      "\n",
      "So, the final result of the expression \\( 2 + 7 \\times (9 - 7) / 3 \\) is approximately \\( 6.67 \\), or exactly \\( \\frac{20}{3} \\) if expressed as a fraction.\n"
     ]
    }
   ],
   "execution_count": 7
  },
  {
   "cell_type": "code",
   "id": "b07366e9",
   "metadata": {
    "ExecuteTime": {
     "end_time": "2025-06-05T17:07:02.952191Z",
     "start_time": "2025-06-05T17:07:02.949738Z"
    }
   },
   "source": [
    "question = \"Pleas propose a hard, challenging question to assess someone's IQ. Respond only with the question.\"\n",
    "messages = [{\"role\": \"user\", \"content\": question}]"
   ],
   "outputs": [],
   "execution_count": 8
  },
  {
   "cell_type": "code",
   "id": "327f4c18",
   "metadata": {
    "ExecuteTime": {
     "end_time": "2025-06-05T17:07:04.183208Z",
     "start_time": "2025-06-05T17:07:02.961985Z"
    }
   },
   "source": [
    "response = openai.chat.completions.create(\n",
    "    model=\"gpt-4o-mini\",\n",
    "    messages=messages\n",
    ")\n",
    "\n",
    "question = response.choices[0].message.content\n",
    "\n",
    "print(question)"
   ],
   "outputs": [
    {
     "name": "stdout",
     "output_type": "stream",
     "text": [
      "If a train leaves a station traveling at 60 miles per hour and another train leaves another station 120 miles away traveling toward the first train at 90 miles per hour, how long will it take for the two trains to meet?\n"
     ]
    }
   ],
   "execution_count": 9
  },
  {
   "cell_type": "code",
   "id": "450e4c51",
   "metadata": {
    "ExecuteTime": {
     "end_time": "2025-06-05T17:07:04.195676Z",
     "start_time": "2025-06-05T17:07:04.191997Z"
    }
   },
   "source": [
    "messages = [{\"role\": \"user\", \"content\": question}]\n"
   ],
   "outputs": [],
   "execution_count": 10
  },
  {
   "cell_type": "code",
   "id": "847b9168",
   "metadata": {
    "ExecuteTime": {
     "end_time": "2025-06-05T17:07:16.448796Z",
     "start_time": "2025-06-05T17:07:04.204743Z"
    }
   },
   "source": [
    "response = openai.chat.completions.create(\n",
    "    model=\"gpt-4o-mini\",\n",
    "    messages=messages\n",
    ")\n",
    "\n",
    "answer = response.choices[0].message.content\n",
    "\n",
    "print(answer)"
   ],
   "outputs": [
    {
     "name": "stdout",
     "output_type": "stream",
     "text": [
      "To determine how long it will take for the two trains to meet, we can start by defining the speeds and the distance between them:\n",
      "\n",
      "- Speed of Train A (leaving from the first station): 60 miles per hour\n",
      "- Speed of Train B (leaving from the second station, 120 miles away): 90 miles per hour\n",
      "- Distance between the two stations: 120 miles\n",
      "\n",
      "Since both trains are moving towards each other, we can add their speeds to find the rate at which they are closing the distance between them:\n",
      "\n",
      "\\[\n",
      "\\text{Combined Speed} = \\text{Speed of Train A} + \\text{Speed of Train B} = 60 \\, \\text{miles/hour} + 90 \\, \\text{miles/hour} = 150 \\, \\text{miles/hour}\n",
      "\\]\n",
      "\n",
      "Next, we can use the formula:\n",
      "\n",
      "\\[\n",
      "\\text{Time} = \\frac{\\text{Distance}}{\\text{Speed}}\n",
      "\\]\n",
      "\n",
      "Substituting the distance and the combined speed into the formula gives:\n",
      "\n",
      "\\[\n",
      "\\text{Time} = \\frac{120 \\, \\text{miles}}{150 \\, \\text{miles/hour}}\n",
      "\\]\n",
      "\n",
      "Now we calculate the time:\n",
      "\n",
      "\\[\n",
      "\\text{Time} = \\frac{120}{150} = \\frac{12}{15} = \\frac{4}{5} \\text{ hours}\n",
      "\\]\n",
      "\n",
      "To convert this fraction of an hour into minutes, we multiply by 60 (since there are 60 minutes in an hour):\n",
      "\n",
      "\\[\n",
      "\\text{Time in minutes} = \\frac{4}{5} \\times 60 = 48 \\text{ minutes}\n",
      "\\]\n",
      "\n",
      "Therefore, it will take **48 minutes** for the two trains to meet.\n"
     ]
    }
   ],
   "execution_count": 11
  },
  {
   "cell_type": "code",
   "id": "9e1b3d80",
   "metadata": {
    "ExecuteTime": {
     "end_time": "2025-06-05T17:07:16.629816Z",
     "start_time": "2025-06-05T17:07:16.625725Z"
    }
   },
   "source": [
    "from IPython.display import Markdown, display\n",
    "\n",
    "display(Markdown(answer))"
   ],
   "outputs": [
    {
     "data": {
      "text/plain": [
       "<IPython.core.display.Markdown object>"
      ],
      "text/markdown": "To determine how long it will take for the two trains to meet, we can start by defining the speeds and the distance between them:\n\n- Speed of Train A (leaving from the first station): 60 miles per hour\n- Speed of Train B (leaving from the second station, 120 miles away): 90 miles per hour\n- Distance between the two stations: 120 miles\n\nSince both trains are moving towards each other, we can add their speeds to find the rate at which they are closing the distance between them:\n\n\\[\n\\text{Combined Speed} = \\text{Speed of Train A} + \\text{Speed of Train B} = 60 \\, \\text{miles/hour} + 90 \\, \\text{miles/hour} = 150 \\, \\text{miles/hour}\n\\]\n\nNext, we can use the formula:\n\n\\[\n\\text{Time} = \\frac{\\text{Distance}}{\\text{Speed}}\n\\]\n\nSubstituting the distance and the combined speed into the formula gives:\n\n\\[\n\\text{Time} = \\frac{120 \\, \\text{miles}}{150 \\, \\text{miles/hour}}\n\\]\n\nNow we calculate the time:\n\n\\[\n\\text{Time} = \\frac{120}{150} = \\frac{12}{15} = \\frac{4}{5} \\text{ hours}\n\\]\n\nTo convert this fraction of an hour into minutes, we multiply by 60 (since there are 60 minutes in an hour):\n\n\\[\n\\text{Time in minutes} = \\frac{4}{5} \\times 60 = 48 \\text{ minutes}\n\\]\n\nTherefore, it will take **48 minutes** for the two trains to meet."
     },
     "metadata": {},
     "output_type": "display_data"
    }
   ],
   "execution_count": 12
  },
  {
   "cell_type": "code",
   "id": "8522c433",
   "metadata": {
    "ExecuteTime": {
     "end_time": "2025-06-05T17:07:16.686011Z",
     "start_time": "2025-06-05T17:07:16.683716Z"
    }
   },
   "source": [],
   "outputs": [],
   "execution_count": null
  },
  {
   "metadata": {
    "ExecuteTime": {
     "end_time": "2025-06-05T17:08:18.383718Z",
     "start_time": "2025-06-05T17:08:16.672504Z"
    }
   },
   "cell_type": "code",
   "source": [
    "# First create the messages:\n",
    "\n",
    "messages = [{\"role\": \"user\", \"content\": \"Hello chat, I need to pick a business area that might be worth exploring for an Agentic opportunity. I need that you came up with an idea, but only one idea.\"}]\n",
    "\n",
    "# Then make the first call:\n",
    "\n",
    "response = openai.chat.completions.create(\n",
    "    model=\"chatgpt-4o-latest\",\n",
    "    messages=messages\n",
    ")\n",
    "\n",
    "# Then read the business idea:\n",
    "business_idea = response.choices[0].message.content\n",
    "\n",
    "display(Markdown(business_idea))\n",
    "\n",
    "# And repeat!\n"
   ],
   "id": "541b158c6bc5b6f3",
   "outputs": [
    {
     "data": {
      "text/plain": [
       "<IPython.core.display.Markdown object>"
      ],
      "text/markdown": "Sure! Here's one agentic business opportunity:\n\n**Automated Compliance Monitoring for Small Businesses**\n\nDevelop an intelligent agent that continuously monitors a small business’s financial records, employee activities, and communications to ensure compliance with relevant local, national, and industry-specific regulations (e.g., tax codes, labor laws, data privacy). This agent could proactively detect anomalies, suggest corrective actions, and even draft reports or filings automatically. Small businesses often lack legal and compliance expertise—your agent could act as a 24/7 virtual compliance officer."
     },
     "metadata": {},
     "output_type": "display_data"
    }
   ],
   "execution_count": 13
  },
  {
   "metadata": {
    "ExecuteTime": {
     "end_time": "2025-06-05T17:08:40.126821Z",
     "start_time": "2025-06-05T17:08:35.866603Z"
    }
   },
   "cell_type": "code",
   "source": [
    "new_mesage = f\"Now, from the idea: {business_idea}. I need a pain-point in that industry - something challenging that might be ripe for an Agentic solution.\"\n",
    "messages = [{\"role\": \"user\", \"content\": new_mesage}]\n",
    "\n",
    "response = openai.chat.completions.create(\n",
    "    model=\"chatgpt-4o-latest\",\n",
    "    messages=messages\n",
    ")\n",
    "\n",
    "pain_point_answer = response.choices[0].message.content\n",
    "\n",
    "display(Markdown(pain_point_answer))"
   ],
   "id": "bd3c6ff610bbb74c",
   "outputs": [
    {
     "data": {
      "text/plain": [
       "<IPython.core.display.Markdown object>"
      ],
      "text/markdown": "Certainly! One key pain-point in the small business sector that highlights a ripe opportunity for an agentic solution is:\n\n🚨 Manual and Fragmented Compliance Tracking\n\nMany small businesses manage compliance in a piecemeal fashion—tracking deadlines, regulations, employee certifications, tax requirements, and industry-specific mandates manually or across disconnected tools (spreadsheets, calendars, emails, etc.). This fragmented approach results in:\n\n- Missed filing deadlines (e.g., tax submissions, permits, certifications)\n- Difficulty keeping up with changing regulations\n- Penalties for non-compliance due to administrative oversight\n- High administrative burden on already stretched staff\n- Inconsistent documentation or audit trails\n\nThis complexity is amplified when a small business operates across states or industries with different regulatory frameworks.\n\nAgentic Opportunity:\n\nAn intelligent agent could consolidate all compliance-related data, monitor changes in laws or requirements in real-time, cross-reference internal business activities against applicable regulations, send proactive alerts, and even auto-generate required documents or reports. This lifts the compliance burden off the business owner or manager, minimizing risk and increasing operational efficiency.\n\nIn short, think of the pain-point as “compliance chaos” — a confusing, constantly changing landscape that small businesses must navigate without dedicated resources — making it an ideal target for intelligent automation."
     },
     "metadata": {},
     "output_type": "display_data"
    }
   ],
   "execution_count": 14
  },
  {
   "metadata": {
    "ExecuteTime": {
     "end_time": "2025-06-05T17:08:58.415193Z",
     "start_time": "2025-06-05T17:08:42.958701Z"
    }
   },
   "cell_type": "code",
   "source": [
    "new_mesage = f\"I need that you porpose an Agentic AI solution for {pain_point_answer}\"\n",
    "messages = [{\"role\": \"user\", \"content\": new_mesage}]\n",
    "\n",
    "response = openai.chat.completions.create(\n",
    "    model=\"chatgpt-4o-latest\",\n",
    "    messages=messages\n",
    ")\n",
    "\n",
    "ai_agent = response.choices[0].message.content\n",
    "\n",
    "display(Markdown(ai_agent))"
   ],
   "id": "18db0b5f908c89dd",
   "outputs": [
    {
     "data": {
      "text/plain": [
       "<IPython.core.display.Markdown object>"
      ],
      "text/markdown": "Absolutely! Let's design an Agentic AI solution tailored to eradicate \"compliance chaos\" for small businesses — a virtual compliance co-pilot empowered with autonomy, contextual awareness, and initiative.\n\nAgentic AI Solution: ComplianceCopilot\n\nOverview\n\nComplianceCopilot is an autonomous, context-aware compliance management agent that continuously monitors regulatory requirements relevant to a specific small business, tracks internal actions that may trigger compliance concerns, and takes proactive, intelligent actions to ensure alignment with local, state, and industry-specific rules.\n\nDrawing inspiration from personal financial advisors or AI-enabled copilots like Microsoft 365 Copilot, ComplianceCopilot functions as a dedicated compliance concierge—without the cost or complexity of hiring full-time legal or operations staff.\n\nCore Agent Capabilities\n\n🧠 1. Regulatory Radar (Situational Awareness)\n\n- Continuously scrapes and categorizes regulations from governmental and industry sources (IRS, OSHA, HIPAA, state agencies, local licensing boards).\n- Uses knowledge graphs and embeddings to understand semantic similarities and evolutions in legal language.\n- Matches updated laws to the relevant parts of the business (e.g., hiring practices, payroll structure, licenses required).\n- Identifies jurisdictional coverage based on business addresses, remote workers, and client regions.\n\n⚙️ 2. Internal Systems Integration (Contextual Observatory)\n\n- Syncs with business tools (e.g., accounting software, HR systems, calendar apps, document repositories) to understand operational inputs.\n- Tracks key compliance signals such as employee onboarding events, expiring certifications, revenue thresholds, or insurance renewals.\n\n📆 3. Deadline Defense (Proactive Agentic Action)\n\n- Consolidates all compliance obligations into a dynamically updated timeline that business owners can view, revise, approve, or automate.\n- Automatically schedules filings or license renewals; can draft tasks and reminders in task management tools.\n- Sends smart alerts (e.g., “Your New Jersey payroll tax exemption filing is due in 10 days; system prepared the form”) with explainability of action taken.\n\n📄 4. Document Drafter & Filer (Autonomous Execution)\n\n- Leverages LLMs to auto-draft forms, regulatory reports, meeting minutes (for corporate governance), health & safety checklists, or policy updates.\n- Uses chain-of-thought reasoning to adapt templates to business-specific contexts.\n- Can auto-submit electronic filings to government portals via APIs or securely guide an owner through manual workflows when automation isn’t allowed.\n\n🧾 5. Audit-Ready Trailkeeper (Memory & Accountability)\n\n- Maintains a full log of actions taken, documents prepared/submitted, and legal justifications.\n- Generates shareable audit reports for investors, inspectors, or boards.\n- Can answer queries like: “Why didn’t we file a CA LLC Statement of Information in Q2?” with an agentic chain of evaluation.\n\n🔐 6. Secure, Personalized, and Explainable\n\n- Agent is fine-tuned and sandboxed to each business with RBAC (Role-Based Access Control).\n- Offers explainability modules — “Why is this action being taken?”, mitigating black-box AI concerns.\n- Data encrypted with end-to-end storage protocol for client confidence.\n\nAdvanced Agentic Pathways\n\n- Scenario Simulation: Run “what-if” compliance scenarios (e.g., hiring in a new state) and advise on the legal impact.\n- Regulatory Debate Mode: Show pros/cons of different organizational compliance choices (e.g., S-Corp vs. LLC for a nonprofit’s expansion).\n\nDeployment Models\n\n- SaaS Platform: Standalone dashboard with integrations.\n- Embedded Agent: Runs as a plugin in platforms like Gusto, QuickBooks, Zoho, or Shopify.\n- Mobile Companion: Lightweight app for alerts, approvals, and compliance to-do list.\n\nValue Proposition\n\nFor Small Businesses:\n\n- 0 missed compliance tasks\n- 60–80% reduction in admin time spent on regulatory work\n- Peace of mind and audit-readiness “built in”\n- Scales with business complexity, geographic expansion, and team growth\n\nStrategic Fit for Certainly!\n\nComplianceCopilot represents a natural agentic AI extension for Certainly!’s vision of smart automation:\n\n- Multimodal decision-making (text rules, calendars, documents)\n- Real-time action & continuous updates (agent autonomy)\n- Alignment with customer-centric tools (CRMs, HRIS, finance)\n\nCall to Action:\n\nWant to turn compliance chaos into confidence? Let’s build ComplianceCopilot, your 24/7 intelligent regulatory watchdog, paperwork robot, and proactive advisor — all in one agentic layer.\n\nLet me know if you'd like a UI wireframe, architecture breakdown, or go-to-market strategy next."
     },
     "metadata": {},
     "output_type": "display_data"
    }
   ],
   "execution_count": 15
  },
  {
   "metadata": {
    "ExecuteTime": {
     "end_time": "2025-06-05T17:07:16.771991Z",
     "start_time": "2025-06-05T17:07:16.768396Z"
    }
   },
   "cell_type": "code",
   "source": "",
   "id": "be462534c10134bf",
   "outputs": [],
   "execution_count": null
  },
  {
   "metadata": {
    "ExecuteTime": {
     "end_time": "2025-06-05T17:07:16.785845Z",
     "start_time": "2025-06-05T17:07:16.783385Z"
    }
   },
   "cell_type": "code",
   "source": "",
   "id": "3310872dd7bac890",
   "outputs": [],
   "execution_count": null
  },
  {
   "metadata": {
    "ExecuteTime": {
     "end_time": "2025-06-05T17:07:16.804773Z",
     "start_time": "2025-06-05T17:07:16.801948Z"
    }
   },
   "cell_type": "code",
   "source": "",
   "id": "38460113ab94ac",
   "outputs": [],
   "execution_count": null
  },
  {
   "metadata": {},
   "cell_type": "code",
   "outputs": [],
   "execution_count": null,
   "source": "",
   "id": "2915709f6a51eb21"
  }
 ],
 "metadata": {
  "kernelspec": {
   "display_name": ".venv",
   "language": "python",
   "name": "python3"
  },
  "language_info": {
   "codemirror_mode": {
    "name": "ipython",
    "version": 3
   },
   "file_extension": ".py",
   "mimetype": "text/x-python",
   "name": "python",
   "nbconvert_exporter": "python",
   "pygments_lexer": "ipython3",
   "version": "3.12.10"
  }
 },
 "nbformat": 4,
 "nbformat_minor": 5
}
